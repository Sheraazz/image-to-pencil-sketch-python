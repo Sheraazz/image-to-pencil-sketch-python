{
 "cells": [
  {
   "cell_type": "markdown",
   "id": "8735d7c3",
   "metadata": {},
   "source": [
    "# Sheraz Ahmad"
   ]
  },
  {
   "cell_type": "markdown",
   "id": "8d356330",
   "metadata": {},
   "source": [
    "## TASK : 4 IMAGE TO PENCIL SKETCH PYTHON"
   ]
  },
  {
   "cell_type": "markdown",
   "id": "e58d98ce",
   "metadata": {},
   "source": [
    "## INTERNSHIP MONTH : AUGUST"
   ]
  },
  {
   "cell_type": "markdown",
   "id": "e9880bfb",
   "metadata": {},
   "source": [
    "## LGMVIP"
   ]
  },
  {
   "cell_type": "code",
   "execution_count": 2,
   "id": "048f6602",
   "metadata": {},
   "outputs": [],
   "source": [
    "import cv2\n",
    "import matplotlib.pyplot as plt"
   ]
  },
  {
   "cell_type": "code",
   "execution_count": 3,
   "id": "90986c1b",
   "metadata": {},
   "outputs": [],
   "source": [
    "# Read the Image File\n",
    "image = cv2.imread('rat.jpg')"
   ]
  },
  {
   "cell_type": "code",
   "execution_count": 4,
   "id": "099b68c2",
   "metadata": {},
   "outputs": [],
   "source": [
    "# Convert Image from RGB to gray (colorless)\n",
    "imgToGray = cv2.cvtColor(image, cv2.COLOR_BGR2GRAY)"
   ]
  },
  {
   "cell_type": "code",
   "execution_count": 5,
   "id": "68f5ca9f",
   "metadata": {},
   "outputs": [],
   "source": [
    "# Invert the Grayscale\n",
    "invertGrayImg = 255 - imgToGray"
   ]
  },
  {
   "cell_type": "code",
   "execution_count": 6,
   "id": "2ea6bf8e",
   "metadata": {},
   "outputs": [],
   "source": [
    "# Making Pencil Sketch by mixing grayscale image with inverted image blurry image\n",
    "blurredImg = cv2.GaussianBlur(invertGrayImg, (21, 21), 0)"
   ]
  },
  {
   "cell_type": "code",
   "execution_count": 7,
   "id": "921f0668",
   "metadata": {},
   "outputs": [],
   "source": [
    "# Invert the Blur\n",
    "invertBlurredImg = 255 - blurredImg"
   ]
  },
  {
   "cell_type": "code",
   "execution_count": 8,
   "id": "b5c17655",
   "metadata": {},
   "outputs": [],
   "source": [
    "# Final Result - Pencil Sketch\n",
    "pencilSketchImg = cv2.divide(imgToGray, invertBlurredImg, scale=256.0)"
   ]
  },
  {
   "cell_type": "code",
   "execution_count": null,
   "id": "c0fe7c66",
   "metadata": {},
   "outputs": [],
   "source": [
    "cv2.imshow(\"Before\", image)\n",
    "cv2.imshow(\"After\", pencilSketchImg)\n",
    "cv2.waitKey(0)"
   ]
  }
 ],
 "metadata": {
  "kernelspec": {
   "display_name": "Python 3 (ipykernel)",
   "language": "python",
   "name": "python3"
  },
  "language_info": {
   "codemirror_mode": {
    "name": "ipython",
    "version": 3
   },
   "file_extension": ".py",
   "mimetype": "text/x-python",
   "name": "python",
   "nbconvert_exporter": "python",
   "pygments_lexer": "ipython3",
   "version": "3.11.4"
  }
 },
 "nbformat": 4,
 "nbformat_minor": 5
}
